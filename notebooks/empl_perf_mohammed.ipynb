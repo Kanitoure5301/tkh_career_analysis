{
 "cells": [
  {
   "cell_type": "markdown",
   "metadata": {},
   "source": [
    "# Employee Performance Analysis By Mohammed\n",
    "\n",
    "This analysis explores key factors influencing employee performance, and productivity, using authenthic HR dataset. We will examine relationships between performance scores, engagement metrics, attendance, and demographic variables. This analysis will provide meaningful insights that can help boost busniesses by improving their workforce effectiveness.\n",
    "\n",
    "**Key Questions**\n",
    "\n",
    "How does a different employment status affect the PerformanceScore rating\n",
    "\n",
    "Do employees with higher EmpSatisfaction have better PerformanceScore ratings?\n",
    "\n",
    "\n",
    "Does an employee with active EngagementSurvey participation have higher PerformanceScore ratings?\n",
    "\n",
    "How do Performance Score ratings vary among different races of people, marital status, salary, gender, places, and citizenship status\n",
    "\n",
    "Which departments have the highest average PerformanceScore?\n",
    "\n",
    "What is the relationship between EmpSatisfaction and PerformanceScore? How strong is this relationship?\n",
    "\n",
    "What is the relationship between LastPerformanceReviewDate and PerformanceScore? How strong is this relationship? \n",
    "\n",
    "Is there a relationship between PerformanceScore and DaysLateLast30?\n",
    "\n",
    "Do employees with higher Absences tend to have lower PerformanceScore?\n",
    "\n",
    "Does SpecialProjectsCount correlate with PerformanceScore?\n",
    "\n"
   ]
  }
 ],
 "metadata": {
  "language_info": {
   "name": "python"
  }
 },
 "nbformat": 4,
 "nbformat_minor": 2
}
