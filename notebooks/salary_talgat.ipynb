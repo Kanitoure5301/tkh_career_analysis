{
 "cells": [
  {
   "cell_type": "code",
   "execution_count": null,
   "metadata": {},
   "outputs": [],
   "source": [
    "#Talgat - Salary\n",
    "Here I will how you my analysis of the salary data.\n",
    "\n",
    "\n"
   ]
  },
  {
   "cell_type": "code",
   "execution_count": 1,
   "metadata": {},
   "outputs": [],
   "source": [
    "import pandas as pd \n",
    "import numpy as np\n",
    "\n",
    "import seaborn as sns\n",
    "import matplotlib.pyplot as plt"
   ]
  },
  {
   "cell_type": "code",
   "execution_count": 8,
   "metadata": {},
   "outputs": [],
   "source": [
    "# Update the path to the correct location of the file\n",
    "salary = pd.read_csv('/Users/talgat/Documents/career/tkh_career_analysis/data/HRDataset_v14 2.csv')"
   ]
  },
  {
   "cell_type": "code",
   "execution_count": 9,
   "metadata": {},
   "outputs": [
    {
     "name": "stdout",
     "output_type": "stream",
     "text": [
      "              Employee_Name  EmpID  MarriedID  MaritalStatusID  GenderID  \\\n",
      "0       Adinolfi, Wilson  K  10026          0                0         1   \n",
      "1  Ait Sidi, Karthikeyan     10084          1                1         1   \n",
      "2         Akinkuolie, Sarah  10196          1                1         0   \n",
      "3              Alagbe,Trina  10088          1                1         0   \n",
      "4          Anderson, Carol   10069          0                2         0   \n",
      "\n",
      "   EmpStatusID  DeptID  PerfScoreID  FromDiversityJobFairID  Salary  ...  \\\n",
      "0            1       5            4                       0   62506  ...   \n",
      "1            5       3            3                       0  104437  ...   \n",
      "2            5       5            3                       0   64955  ...   \n",
      "3            1       5            3                       0   64991  ...   \n",
      "4            5       5            3                       0   50825  ...   \n",
      "\n",
      "      ManagerName  ManagerID RecruitmentSource PerformanceScore  \\\n",
      "0  Michael Albert       22.0          LinkedIn          Exceeds   \n",
      "1      Simon Roup        4.0            Indeed      Fully Meets   \n",
      "2  Kissy Sullivan       20.0          LinkedIn      Fully Meets   \n",
      "3    Elijiah Gray       16.0            Indeed      Fully Meets   \n",
      "4  Webster Butler       39.0     Google Search      Fully Meets   \n",
      "\n",
      "   EngagementSurvey EmpSatisfaction SpecialProjectsCount  \\\n",
      "0              4.60               5                    0   \n",
      "1              4.96               3                    6   \n",
      "2              3.02               3                    0   \n",
      "3              4.84               5                    0   \n",
      "4              5.00               4                    0   \n",
      "\n",
      "  LastPerformanceReview_Date DaysLateLast30 Absences  \n",
      "0                  1/17/2019              0        1  \n",
      "1                  2/24/2016              0       17  \n",
      "2                  5/15/2012              0        3  \n",
      "3                   1/3/2019              0       15  \n",
      "4                   2/1/2016              0        2  \n",
      "\n",
      "[5 rows x 36 columns]\n",
      "          Employee_Name  EmpID  MarriedID  MaritalStatusID  GenderID  \\\n",
      "306      Woodson, Jason  10135          0                0         1   \n",
      "307  Ybarra, Catherine   10301          0                0         0   \n",
      "308    Zamora, Jennifer  10010          0                0         0   \n",
      "309         Zhou, Julia  10043          0                0         0   \n",
      "310       Zima, Colleen  10271          0                4         0   \n",
      "\n",
      "     EmpStatusID  DeptID  PerfScoreID  FromDiversityJobFairID  Salary  ...  \\\n",
      "306            1       5            3                       0   65893  ...   \n",
      "307            5       5            1                       0   48513  ...   \n",
      "308            1       3            4                       0  220450  ...   \n",
      "309            1       3            3                       0   89292  ...   \n",
      "310            1       5            3                       0   45046  ...   \n",
      "\n",
      "        ManagerName  ManagerID  RecruitmentSource PerformanceScore  \\\n",
      "306  Kissy Sullivan       20.0           LinkedIn      Fully Meets   \n",
      "307  Brannon Miller       12.0      Google Search              PIP   \n",
      "308      Janet King        2.0  Employee Referral          Exceeds   \n",
      "309      Simon Roup        4.0  Employee Referral      Fully Meets   \n",
      "310   David Stanley       14.0           LinkedIn      Fully Meets   \n",
      "\n",
      "     EngagementSurvey EmpSatisfaction SpecialProjectsCount  \\\n",
      "306              4.07               4                    0   \n",
      "307              3.20               2                    0   \n",
      "308              4.60               5                    6   \n",
      "309              5.00               3                    5   \n",
      "310              4.50               5                    0   \n",
      "\n",
      "    LastPerformanceReview_Date DaysLateLast30 Absences  \n",
      "306                  2/28/2019              0       13  \n",
      "307                   9/2/2015              5        4  \n",
      "308                  2/21/2019              0       16  \n",
      "309                   2/1/2019              0       11  \n",
      "310                  1/30/2019              0        2  \n",
      "\n",
      "[5 rows x 36 columns]\n"
     ]
    }
   ],
   "source": [
    "# Ensure the dataset is loaded by executing the cell where 'salary' is defined (CELL INDEX 1)\n",
    "\n",
    "# Show the first 5 rows of the dataset\n",
    "print(salary.head())\n",
    "# Show the last 5 rows of the dataset\n",
    "print(salary.tail())"
   ]
  },
  {
   "cell_type": "code",
   "execution_count": null,
   "metadata": {},
   "outputs": [],
   "source": []
  }
 ],
 "metadata": {
  "kernelspec": {
   "display_name": "ds",
   "language": "python",
   "name": "python3"
  },
  "language_info": {
   "codemirror_mode": {
    "name": "ipython",
    "version": 3
   },
   "file_extension": ".py",
   "mimetype": "text/x-python",
   "name": "python",
   "nbconvert_exporter": "python",
   "pygments_lexer": "ipython3",
   "version": "3.8.20"
  }
 },
 "nbformat": 4,
 "nbformat_minor": 2
}
